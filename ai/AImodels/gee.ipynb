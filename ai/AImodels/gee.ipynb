{
 "cells": [
  {
   "metadata": {
    "ExecuteTime": {
     "end_time": "2024-09-21T23:13:26.188352Z",
     "start_time": "2024-09-21T23:13:22.197400Z"
    }
   },
   "cell_type": "code",
   "source": [
    "import ee\n",
    "ee.Authenticate()\n",
    "ee.Initialize(project='ee-dilavar7517')"
   ],
   "id": "6fe9cbbaeb7aeba5",
   "outputs": [],
   "execution_count": 9
  },
  {
   "metadata": {
    "ExecuteTime": {
     "end_time": "2024-09-21T23:14:56.315592Z",
     "start_time": "2024-09-21T23:14:56.312226Z"
    }
   },
   "cell_type": "code",
   "source": [
    "latitude = 55.7558\n",
    "longitude = 37.6176\n",
    "region = ee.Geometry.Point([longitude, latitude], proj=ee.Projection('EPSG:4326'))"
   ],
   "id": "5ee67af0a21c7f3d",
   "outputs": [],
   "execution_count": 13
  },
  {
   "metadata": {
    "ExecuteTime": {
     "end_time": "2024-09-21T23:15:55.227149Z",
     "start_time": "2024-09-21T23:15:55.214744Z"
    }
   },
   "cell_type": "code",
   "source": [
    "start_date = '2024-09-01'\n",
    "end_date = '2024-09-31'\n",
    "\n",
    "era5 = ee.ImageCollection('ECMWF/ERA5/DAILY') \\\n",
    "    .filterDate(start_date, end_date) \\\n",
    "    .select(['mean_2m_air_temperature', 'total_precipitation', 'mean_2m_dewpoint_temperature'])\n",
    "\n",
    "era5_mean = era5.mean()\n",
    "data = era5_mean = era5_mean.reproject(crs='EPSG:4326', scale=1000)\n",
    "\n",
    "temperature = data['mean_2m_air_temperature'] - 273.15\n",
    "dewpoint = data['mean_2m_dewpoint_temperature'] - 273.15\n",
    "\n",
    "import math\n",
    "\n",
    "def calculate_relative_humidity(t_air, t_dew):\n",
    "    rh = 100 * (math.exp((17.625 * t_dew)/(243.04 + t_dew)) / math.exp((17.625 * t_air)/(243.04 + t_air)))\n",
    "    return rh\n",
    "\n",
    "humidity = calculate_relative_humidity(temperature, dewpoint)\n",
    "\n",
    "print(f\"Средняя температура: {temperature:.2f} °C\")\n",
    "print(f\"Относительная влажность: {humidity:.2f} %\")"
   ],
   "id": "af38fd63e8cecefa",
   "outputs": [
    {
     "ename": "TypeError",
     "evalue": "'Image' object is not subscriptable",
     "output_type": "error",
     "traceback": [
      "\u001B[1;31m---------------------------------------------------------------------------\u001B[0m",
      "\u001B[1;31mTypeError\u001B[0m                                 Traceback (most recent call last)",
      "Cell \u001B[1;32mIn[15], line 16\u001B[0m\n\u001B[0;32m     13\u001B[0m data \u001B[38;5;241m=\u001B[39m era5_mean \u001B[38;5;241m=\u001B[39m era5_mean\u001B[38;5;241m.\u001B[39mreproject(crs\u001B[38;5;241m=\u001B[39m\u001B[38;5;124m'\u001B[39m\u001B[38;5;124mEPSG:4326\u001B[39m\u001B[38;5;124m'\u001B[39m, scale\u001B[38;5;241m=\u001B[39m\u001B[38;5;241m1000\u001B[39m)\n\u001B[0;32m     15\u001B[0m \u001B[38;5;66;03m# Преобразуем температуру из Кельвинов в Цельсий\u001B[39;00m\n\u001B[1;32m---> 16\u001B[0m temperature \u001B[38;5;241m=\u001B[39m \u001B[43mdata\u001B[49m\u001B[43m[\u001B[49m\u001B[38;5;124;43m'\u001B[39;49m\u001B[38;5;124;43mmean_2m_air_temperature\u001B[39;49m\u001B[38;5;124;43m'\u001B[39;49m\u001B[43m]\u001B[49m \u001B[38;5;241m-\u001B[39m \u001B[38;5;241m273.15\u001B[39m\n\u001B[0;32m     17\u001B[0m dewpoint \u001B[38;5;241m=\u001B[39m data[\u001B[38;5;124m'\u001B[39m\u001B[38;5;124mmean_2m_dewpoint_temperature\u001B[39m\u001B[38;5;124m'\u001B[39m] \u001B[38;5;241m-\u001B[39m \u001B[38;5;241m273.15\u001B[39m\n\u001B[0;32m     19\u001B[0m \u001B[38;5;66;03m# Расчет относительной влажности\u001B[39;00m\n",
      "\u001B[1;31mTypeError\u001B[0m: 'Image' object is not subscriptable"
     ]
    }
   ],
   "execution_count": 15
  },
  {
   "metadata": {
    "ExecuteTime": {
     "end_time": "2024-09-21T23:11:32.980129Z",
     "start_time": "2024-09-21T23:11:32.038502Z"
    }
   },
   "cell_type": "code",
   "source": [
    "modis = ee.ImageCollection('MODIS/006/MOD11A1') \\\n",
    "    .filterDate(start_date, end_date) \\\n",
    "    .select('LST_Day_1km')\n",
    "\n",
    "modis_mean = modis.mean()\n",
    "lst = modis_mean.sample(region, scale=1000).first().get('LST_Day_1km').getInfo()\n",
    "surface_temp = lst * 0.02 - 273.15\n",
    "print(f\"Температура поверхности: {surface_temp:.2f} °C\")"
   ],
   "id": "4e86ce95a95edc88",
   "outputs": [
    {
     "ename": "EEException",
     "evalue": "Not signed up for Earth Engine or project is not registered. Visit https://developers.google.com/earth-engine/guides/access",
     "output_type": "error",
     "traceback": [
      "\u001B[1;31m---------------------------------------------------------------------------\u001B[0m",
      "\u001B[1;31mHttpError\u001B[0m                                 Traceback (most recent call last)",
      "File \u001B[1;32m~\\PycharmProjects\\PT\\.venv\\Lib\\site-packages\\ee\\data.py:406\u001B[0m, in \u001B[0;36m_execute_cloud_call\u001B[1;34m(call, num_retries)\u001B[0m\n\u001B[0;32m    405\u001B[0m \u001B[38;5;28;01mtry\u001B[39;00m:\n\u001B[1;32m--> 406\u001B[0m   \u001B[38;5;28;01mreturn\u001B[39;00m \u001B[43mcall\u001B[49m\u001B[38;5;241;43m.\u001B[39;49m\u001B[43mexecute\u001B[49m\u001B[43m(\u001B[49m\u001B[43mnum_retries\u001B[49m\u001B[38;5;241;43m=\u001B[39;49m\u001B[43mnum_retries\u001B[49m\u001B[43m)\u001B[49m\n\u001B[0;32m    407\u001B[0m \u001B[38;5;28;01mexcept\u001B[39;00m googleapiclient\u001B[38;5;241m.\u001B[39merrors\u001B[38;5;241m.\u001B[39mHttpError \u001B[38;5;28;01mas\u001B[39;00m e:\n",
      "File \u001B[1;32m~\\PycharmProjects\\PT\\.venv\\Lib\\site-packages\\googleapiclient\\_helpers.py:130\u001B[0m, in \u001B[0;36mpositional.<locals>.positional_decorator.<locals>.positional_wrapper\u001B[1;34m(*args, **kwargs)\u001B[0m\n\u001B[0;32m    129\u001B[0m         logger\u001B[38;5;241m.\u001B[39mwarning(message)\n\u001B[1;32m--> 130\u001B[0m \u001B[38;5;28;01mreturn\u001B[39;00m \u001B[43mwrapped\u001B[49m\u001B[43m(\u001B[49m\u001B[38;5;241;43m*\u001B[39;49m\u001B[43margs\u001B[49m\u001B[43m,\u001B[49m\u001B[43m \u001B[49m\u001B[38;5;241;43m*\u001B[39;49m\u001B[38;5;241;43m*\u001B[39;49m\u001B[43mkwargs\u001B[49m\u001B[43m)\u001B[49m\n",
      "File \u001B[1;32m~\\PycharmProjects\\PT\\.venv\\Lib\\site-packages\\googleapiclient\\http.py:938\u001B[0m, in \u001B[0;36mHttpRequest.execute\u001B[1;34m(self, http, num_retries)\u001B[0m\n\u001B[0;32m    937\u001B[0m \u001B[38;5;28;01mif\u001B[39;00m resp\u001B[38;5;241m.\u001B[39mstatus \u001B[38;5;241m>\u001B[39m\u001B[38;5;241m=\u001B[39m \u001B[38;5;241m300\u001B[39m:\n\u001B[1;32m--> 938\u001B[0m     \u001B[38;5;28;01mraise\u001B[39;00m HttpError(resp, content, uri\u001B[38;5;241m=\u001B[39m\u001B[38;5;28mself\u001B[39m\u001B[38;5;241m.\u001B[39muri)\n\u001B[0;32m    939\u001B[0m \u001B[38;5;28;01mreturn\u001B[39;00m \u001B[38;5;28mself\u001B[39m\u001B[38;5;241m.\u001B[39mpostproc(resp, content)\n",
      "\u001B[1;31mHttpError\u001B[0m: <HttpError 403 when requesting https://earthengine.googleapis.com/v1/projects/earthengine-legacy/algorithms?prettyPrint=false&alt=json returned \"Not signed up for Earth Engine or project is not registered. Visit https://developers.google.com/earth-engine/guides/access\". Details: \"Not signed up for Earth Engine or project is not registered. Visit https://developers.google.com/earth-engine/guides/access\">",
      "\nDuring handling of the above exception, another exception occurred:\n",
      "\u001B[1;31mEEException\u001B[0m                               Traceback (most recent call last)",
      "Cell \u001B[1;32mIn[6], line 1\u001B[0m\n\u001B[1;32m----> 1\u001B[0m modis \u001B[38;5;241m=\u001B[39m \u001B[43mee\u001B[49m\u001B[38;5;241;43m.\u001B[39;49m\u001B[43mImageCollection\u001B[49m\u001B[43m(\u001B[49m\u001B[38;5;124;43m'\u001B[39;49m\u001B[38;5;124;43mMODIS/006/MOD11A1\u001B[39;49m\u001B[38;5;124;43m'\u001B[39;49m\u001B[43m)\u001B[49m \\\n\u001B[0;32m      2\u001B[0m     \u001B[38;5;241m.\u001B[39mfilterDate(start_date, end_date) \\\n\u001B[0;32m      3\u001B[0m     \u001B[38;5;241m.\u001B[39mselect(\u001B[38;5;124m'\u001B[39m\u001B[38;5;124mLST_Day_1km\u001B[39m\u001B[38;5;124m'\u001B[39m)\n\u001B[0;32m      5\u001B[0m \u001B[38;5;66;03m# Средняя температура поверхности\u001B[39;00m\n\u001B[0;32m      6\u001B[0m modis_mean \u001B[38;5;241m=\u001B[39m modis\u001B[38;5;241m.\u001B[39mmean()\n",
      "File \u001B[1;32m~\\PycharmProjects\\PT\\.venv\\Lib\\site-packages\\ee\\computedobject.py:28\u001B[0m, in \u001B[0;36mComputedObjectMetaclass.__call__\u001B[1;34m(cls, *args, **kwargs)\u001B[0m\n\u001B[0;32m     26\u001B[0m   \u001B[38;5;28;01mreturn\u001B[39;00m args[\u001B[38;5;241m0\u001B[39m]\n\u001B[0;32m     27\u001B[0m \u001B[38;5;28;01melse\u001B[39;00m:\n\u001B[1;32m---> 28\u001B[0m   \u001B[38;5;28;01mreturn\u001B[39;00m \u001B[38;5;28;43mtype\u001B[39;49m\u001B[38;5;241;43m.\u001B[39;49m\u001B[38;5;21;43m__call__\u001B[39;49m\u001B[43m(\u001B[49m\u001B[38;5;28;43mcls\u001B[39;49m\u001B[43m,\u001B[49m\u001B[43m \u001B[49m\u001B[38;5;241;43m*\u001B[39;49m\u001B[43margs\u001B[49m\u001B[43m,\u001B[49m\u001B[43m \u001B[49m\u001B[38;5;241;43m*\u001B[39;49m\u001B[38;5;241;43m*\u001B[39;49m\u001B[43mkwargs\u001B[49m\u001B[43m)\u001B[49m\n",
      "File \u001B[1;32m~\\PycharmProjects\\PT\\.venv\\Lib\\site-packages\\ee\\deprecation.py:124\u001B[0m, in \u001B[0;36mWarnForDeprecatedAsset.<locals>.Decorator.<locals>.Wrapper\u001B[1;34m(*args, **kwargs)\u001B[0m\n\u001B[0;32m    122\u001B[0m   \u001B[38;5;28;01mif\u001B[39;00m asset:\n\u001B[0;32m    123\u001B[0m     _IssueAssetDeprecationWarning(asset)\n\u001B[1;32m--> 124\u001B[0m \u001B[38;5;28;01mreturn\u001B[39;00m \u001B[43mfunc\u001B[49m\u001B[43m(\u001B[49m\u001B[38;5;241;43m*\u001B[39;49m\u001B[43margs\u001B[49m\u001B[43m,\u001B[49m\u001B[43m \u001B[49m\u001B[38;5;241;43m*\u001B[39;49m\u001B[38;5;241;43m*\u001B[39;49m\u001B[43mkwargs\u001B[49m\u001B[43m)\u001B[49m\n",
      "File \u001B[1;32m~\\PycharmProjects\\PT\\.venv\\Lib\\site-packages\\ee\\imagecollection.py:44\u001B[0m, in \u001B[0;36mImageCollection.__init__\u001B[1;34m(self, args)\u001B[0m\n\u001B[0;32m     29\u001B[0m \u001B[38;5;129m@deprecation\u001B[39m\u001B[38;5;241m.\u001B[39mWarnForDeprecatedAsset(\u001B[38;5;124m'\u001B[39m\u001B[38;5;124margs\u001B[39m\u001B[38;5;124m'\u001B[39m)\n\u001B[0;32m     30\u001B[0m \u001B[38;5;28;01mdef\u001B[39;00m \u001B[38;5;21m__init__\u001B[39m(\u001B[38;5;28mself\u001B[39m, args: Any):\n\u001B[0;32m     31\u001B[0m \u001B[38;5;250m  \u001B[39m\u001B[38;5;124;03m\"\"\"ImageCollection constructor.\u001B[39;00m\n\u001B[0;32m     32\u001B[0m \n\u001B[0;32m     33\u001B[0m \u001B[38;5;124;03m  Args:\u001B[39;00m\n\u001B[1;32m   (...)\u001B[0m\n\u001B[0;32m     42\u001B[0m \u001B[38;5;124;03m    EEException: if passed something other than the above.\u001B[39;00m\n\u001B[0;32m     43\u001B[0m \u001B[38;5;124;03m  \"\"\"\u001B[39;00m\n\u001B[1;32m---> 44\u001B[0m   \u001B[38;5;28;43mself\u001B[39;49m\u001B[38;5;241;43m.\u001B[39;49m\u001B[43minitialize\u001B[49m\u001B[43m(\u001B[49m\u001B[43m)\u001B[49m\n\u001B[0;32m     46\u001B[0m   \u001B[38;5;66;03m# Wrap single images in an array.\u001B[39;00m\n\u001B[0;32m     47\u001B[0m   \u001B[38;5;28;01mif\u001B[39;00m \u001B[38;5;28misinstance\u001B[39m(args, image\u001B[38;5;241m.\u001B[39mImage):\n",
      "File \u001B[1;32m~\\PycharmProjects\\PT\\.venv\\Lib\\site-packages\\ee\\imagecollection.py:78\u001B[0m, in \u001B[0;36mImageCollection.initialize\u001B[1;34m(cls)\u001B[0m\n\u001B[0;32m     76\u001B[0m \u001B[38;5;250m\u001B[39m\u001B[38;5;124;03m\"\"\"Imports API functions to this class.\"\"\"\u001B[39;00m\n\u001B[0;32m     77\u001B[0m \u001B[38;5;28;01mif\u001B[39;00m \u001B[38;5;129;01mnot\u001B[39;00m \u001B[38;5;28mcls\u001B[39m\u001B[38;5;241m.\u001B[39m_initialized:\n\u001B[1;32m---> 78\u001B[0m   \u001B[38;5;28;43msuper\u001B[39;49m\u001B[43m(\u001B[49m\u001B[43m)\u001B[49m\u001B[38;5;241;43m.\u001B[39;49m\u001B[43minitialize\u001B[49m\u001B[43m(\u001B[49m\u001B[43m)\u001B[49m\n\u001B[0;32m     79\u001B[0m   apifunction\u001B[38;5;241m.\u001B[39mApiFunction\u001B[38;5;241m.\u001B[39mimportApi(\u001B[38;5;28mcls\u001B[39m, \u001B[38;5;28mcls\u001B[39m\u001B[38;5;241m.\u001B[39mname(), \u001B[38;5;28mcls\u001B[39m\u001B[38;5;241m.\u001B[39mname())\n\u001B[0;32m     80\u001B[0m   apifunction\u001B[38;5;241m.\u001B[39mApiFunction\u001B[38;5;241m.\u001B[39mimportApi(\u001B[38;5;28mcls\u001B[39m, \u001B[38;5;124m'\u001B[39m\u001B[38;5;124mreduce\u001B[39m\u001B[38;5;124m'\u001B[39m, \u001B[38;5;28mcls\u001B[39m\u001B[38;5;241m.\u001B[39mname())\n",
      "File \u001B[1;32m~\\PycharmProjects\\PT\\.venv\\Lib\\site-packages\\ee\\collection.py:50\u001B[0m, in \u001B[0;36mCollection.initialize\u001B[1;34m(cls)\u001B[0m\n\u001B[0;32m     48\u001B[0m \u001B[38;5;250m\u001B[39m\u001B[38;5;124;03m\"\"\"Imports API functions to this class.\"\"\"\u001B[39;00m\n\u001B[0;32m     49\u001B[0m \u001B[38;5;28;01mif\u001B[39;00m \u001B[38;5;129;01mnot\u001B[39;00m \u001B[38;5;28mcls\u001B[39m\u001B[38;5;241m.\u001B[39m_initialized:\n\u001B[1;32m---> 50\u001B[0m   \u001B[43mapifunction\u001B[49m\u001B[38;5;241;43m.\u001B[39;49m\u001B[43mApiFunction\u001B[49m\u001B[38;5;241;43m.\u001B[39;49m\u001B[43mimportApi\u001B[49m\u001B[43m(\u001B[49m\u001B[38;5;28;43mcls\u001B[39;49m\u001B[43m,\u001B[49m\u001B[43m \u001B[49m\u001B[38;5;28;43mcls\u001B[39;49m\u001B[38;5;241;43m.\u001B[39;49m\u001B[43mname\u001B[49m\u001B[43m(\u001B[49m\u001B[43m)\u001B[49m\u001B[43m,\u001B[49m\u001B[43m \u001B[49m\u001B[38;5;28;43mcls\u001B[39;49m\u001B[38;5;241;43m.\u001B[39;49m\u001B[43mname\u001B[49m\u001B[43m(\u001B[49m\u001B[43m)\u001B[49m\u001B[43m)\u001B[49m\n\u001B[0;32m     51\u001B[0m   apifunction\u001B[38;5;241m.\u001B[39mApiFunction\u001B[38;5;241m.\u001B[39mimportApi(\n\u001B[0;32m     52\u001B[0m       \u001B[38;5;28mcls\u001B[39m, \u001B[38;5;124m'\u001B[39m\u001B[38;5;124mAggregateFeatureCollection\u001B[39m\u001B[38;5;124m'\u001B[39m, \u001B[38;5;28mcls\u001B[39m\u001B[38;5;241m.\u001B[39mname(), \u001B[38;5;124m'\u001B[39m\u001B[38;5;124maggregate_\u001B[39m\u001B[38;5;124m'\u001B[39m)\n\u001B[0;32m     53\u001B[0m   \u001B[38;5;28mcls\u001B[39m\u001B[38;5;241m.\u001B[39m_initialized \u001B[38;5;241m=\u001B[39m \u001B[38;5;28;01mTrue\u001B[39;00m\n",
      "File \u001B[1;32m~\\PycharmProjects\\PT\\.venv\\Lib\\site-packages\\ee\\_utils.py:38\u001B[0m, in \u001B[0;36maccept_opt_prefix.<locals>.opt_fixed.<locals>.wrapper\u001B[1;34m(*args, **kwargs)\u001B[0m\n\u001B[0;32m     36\u001B[0m     \u001B[38;5;28;01mif\u001B[39;00m new_key \u001B[38;5;129;01mnot\u001B[39;00m \u001B[38;5;129;01min\u001B[39;00m kwargs:\n\u001B[0;32m     37\u001B[0m       kwargs[new_key] \u001B[38;5;241m=\u001B[39m old_key_val\n\u001B[1;32m---> 38\u001B[0m \u001B[38;5;28;01mreturn\u001B[39;00m \u001B[43mfunc\u001B[49m\u001B[43m(\u001B[49m\u001B[38;5;241;43m*\u001B[39;49m\u001B[43margs\u001B[49m\u001B[43m,\u001B[49m\u001B[43m \u001B[49m\u001B[38;5;241;43m*\u001B[39;49m\u001B[38;5;241;43m*\u001B[39;49m\u001B[43mkwargs\u001B[49m\u001B[43m)\u001B[49m\n",
      "File \u001B[1;32m~\\PycharmProjects\\PT\\.venv\\Lib\\site-packages\\ee\\apifunction.py:197\u001B[0m, in \u001B[0;36mApiFunction.importApi\u001B[1;34m(cls, target, prefix, type_name, prepend)\u001B[0m\n\u001B[0;32m    177\u001B[0m \u001B[38;5;129m@classmethod\u001B[39m\n\u001B[0;32m    178\u001B[0m \u001B[38;5;129m@_utils\u001B[39m\u001B[38;5;241m.\u001B[39maccept_opt_prefix(\u001B[38;5;124m'\u001B[39m\u001B[38;5;124mopt_prepend\u001B[39m\u001B[38;5;124m'\u001B[39m)\n\u001B[0;32m    179\u001B[0m \u001B[38;5;28;01mdef\u001B[39;00m \u001B[38;5;21mimportApi\u001B[39m(\n\u001B[1;32m   (...)\u001B[0m\n\u001B[0;32m    184\u001B[0m     prepend: Optional[\u001B[38;5;28mstr\u001B[39m] \u001B[38;5;241m=\u001B[39m \u001B[38;5;28;01mNone\u001B[39;00m,\n\u001B[0;32m    185\u001B[0m ) \u001B[38;5;241m-\u001B[39m\u001B[38;5;241m>\u001B[39m \u001B[38;5;28;01mNone\u001B[39;00m:\n\u001B[0;32m    186\u001B[0m \u001B[38;5;250m  \u001B[39m\u001B[38;5;124;03m\"\"\"Adds all API functions that begin with a given prefix to a target class.\u001B[39;00m\n\u001B[0;32m    187\u001B[0m \n\u001B[0;32m    188\u001B[0m \u001B[38;5;124;03m  Args:\u001B[39;00m\n\u001B[1;32m   (...)\u001B[0m\n\u001B[0;32m    195\u001B[0m \u001B[38;5;124;03m      functions.\u001B[39;00m\n\u001B[0;32m    196\u001B[0m \u001B[38;5;124;03m  \"\"\"\u001B[39;00m\n\u001B[1;32m--> 197\u001B[0m   \u001B[38;5;28;43mcls\u001B[39;49m\u001B[38;5;241;43m.\u001B[39;49m\u001B[43minitialize\u001B[49m\u001B[43m(\u001B[49m\u001B[43m)\u001B[49m\n\u001B[0;32m    198\u001B[0m   prepend \u001B[38;5;241m=\u001B[39m prepend \u001B[38;5;129;01mor\u001B[39;00m \u001B[38;5;124m'\u001B[39m\u001B[38;5;124m'\u001B[39m\n\u001B[0;32m    199\u001B[0m   \u001B[38;5;28;01mfor\u001B[39;00m name, api_func \u001B[38;5;129;01min\u001B[39;00m \u001B[38;5;28mcls\u001B[39m\u001B[38;5;241m.\u001B[39m_api\u001B[38;5;241m.\u001B[39mitems():\n",
      "File \u001B[1;32m~\\PycharmProjects\\PT\\.venv\\Lib\\site-packages\\ee\\apifunction.py:161\u001B[0m, in \u001B[0;36mApiFunction.initialize\u001B[1;34m(cls)\u001B[0m\n\u001B[0;32m    159\u001B[0m \u001B[38;5;250m\u001B[39m\u001B[38;5;124;03m\"\"\"Initializes the list of signatures from the Earth Engine front-end.\"\"\"\u001B[39;00m\n\u001B[0;32m    160\u001B[0m \u001B[38;5;28;01mif\u001B[39;00m \u001B[38;5;129;01mnot\u001B[39;00m \u001B[38;5;28mcls\u001B[39m\u001B[38;5;241m.\u001B[39m_api:\n\u001B[1;32m--> 161\u001B[0m   signatures \u001B[38;5;241m=\u001B[39m \u001B[43mdata\u001B[49m\u001B[38;5;241;43m.\u001B[39;49m\u001B[43mgetAlgorithms\u001B[49m\u001B[43m(\u001B[49m\u001B[43m)\u001B[49m\n\u001B[0;32m    162\u001B[0m   api \u001B[38;5;241m=\u001B[39m {}\n\u001B[0;32m    163\u001B[0m   \u001B[38;5;28;01mfor\u001B[39;00m name, sig \u001B[38;5;129;01min\u001B[39;00m signatures\u001B[38;5;241m.\u001B[39mitems():\n\u001B[0;32m    164\u001B[0m     \u001B[38;5;66;03m# Strip type parameters.\u001B[39;00m\n",
      "File \u001B[1;32m~\\PycharmProjects\\PT\\.venv\\Lib\\site-packages\\ee\\data.py:1497\u001B[0m, in \u001B[0;36mgetAlgorithms\u001B[1;34m()\u001B[0m\n\u001B[0;32m   1492\u001B[0m     \u001B[38;5;28mprint\u001B[39m(\n\u001B[0;32m   1493\u001B[0m         \u001B[38;5;124m'\u001B[39m\u001B[38;5;124m*** Earth Engine ***\u001B[39m\u001B[38;5;124m'\u001B[39m,\n\u001B[0;32m   1494\u001B[0m         response[_INIT_MESSAGE_HEADER],\n\u001B[0;32m   1495\u001B[0m         file\u001B[38;5;241m=\u001B[39msys\u001B[38;5;241m.\u001B[39mstderr)\n\u001B[0;32m   1496\u001B[0m call\u001B[38;5;241m.\u001B[39madd_response_callback(inspect)\n\u001B[1;32m-> 1497\u001B[0m \u001B[38;5;28;01mreturn\u001B[39;00m _cloud_api_utils\u001B[38;5;241m.\u001B[39mconvert_algorithms(\u001B[43m_execute_cloud_call\u001B[49m\u001B[43m(\u001B[49m\u001B[43mcall\u001B[49m\u001B[43m)\u001B[49m)\n",
      "File \u001B[1;32m~\\PycharmProjects\\PT\\.venv\\Lib\\site-packages\\ee\\data.py:408\u001B[0m, in \u001B[0;36m_execute_cloud_call\u001B[1;34m(call, num_retries)\u001B[0m\n\u001B[0;32m    406\u001B[0m   \u001B[38;5;28;01mreturn\u001B[39;00m call\u001B[38;5;241m.\u001B[39mexecute(num_retries\u001B[38;5;241m=\u001B[39mnum_retries)\n\u001B[0;32m    407\u001B[0m \u001B[38;5;28;01mexcept\u001B[39;00m googleapiclient\u001B[38;5;241m.\u001B[39merrors\u001B[38;5;241m.\u001B[39mHttpError \u001B[38;5;28;01mas\u001B[39;00m e:\n\u001B[1;32m--> 408\u001B[0m   \u001B[38;5;28;01mraise\u001B[39;00m _translate_cloud_exception(e)\n",
      "\u001B[1;31mEEException\u001B[0m: Not signed up for Earth Engine or project is not registered. Visit https://developers.google.com/earth-engine/guides/access"
     ]
    }
   ],
   "execution_count": 6
  },
  {
   "metadata": {
    "ExecuteTime": {
     "end_time": "2024-09-21T23:11:48.527480Z",
     "start_time": "2024-09-21T23:11:47.438525Z"
    }
   },
   "cell_type": "code",
   "source": [
    "soil = ee.Image(\"OpenLandMap/SOL/SOL_TEXTURE-CLASS_USDA-TT_M/v02\")\n",
    "\n",
    "soil_type = soil.sample(region, scale=250).first().get('b0').getInfo()\n",
    "\n",
    "soil_types = {\n",
    "    1: 'clay',\n",
    "    2: 'sandy clay',\n",
    "    3: 'silty clay',\n",
    "    4: 'clay loam',\n",
    "    5: 'sandy clay loam',\n",
    "    6: 'silty clay loam',\n",
    "    7: 'loam',\n",
    "    8: 'sandy loam',\n",
    "    9: 'silt loam',\n",
    "    10: 'loamy sand',\n",
    "    11: 'sand',\n",
    "    12: 'silt',\n",
    "    13: 'peat',\n",
    "    14: 'chalk'\n",
    "}\n",
    "\n",
    "soil_type_name = soil_types.get(int(soil_type), 'Unknown')\n",
    "\n",
    "print(f\"Тип почвы: {soil_type_name}\")"
   ],
   "id": "3474bc95ec60b880",
   "outputs": [
    {
     "ename": "EEException",
     "evalue": "Not signed up for Earth Engine or project is not registered. Visit https://developers.google.com/earth-engine/guides/access",
     "output_type": "error",
     "traceback": [
      "\u001B[1;31m---------------------------------------------------------------------------\u001B[0m",
      "\u001B[1;31mHttpError\u001B[0m                                 Traceback (most recent call last)",
      "File \u001B[1;32m~\\PycharmProjects\\PT\\.venv\\Lib\\site-packages\\ee\\data.py:406\u001B[0m, in \u001B[0;36m_execute_cloud_call\u001B[1;34m(call, num_retries)\u001B[0m\n\u001B[0;32m    405\u001B[0m \u001B[38;5;28;01mtry\u001B[39;00m:\n\u001B[1;32m--> 406\u001B[0m   \u001B[38;5;28;01mreturn\u001B[39;00m \u001B[43mcall\u001B[49m\u001B[38;5;241;43m.\u001B[39;49m\u001B[43mexecute\u001B[49m\u001B[43m(\u001B[49m\u001B[43mnum_retries\u001B[49m\u001B[38;5;241;43m=\u001B[39;49m\u001B[43mnum_retries\u001B[49m\u001B[43m)\u001B[49m\n\u001B[0;32m    407\u001B[0m \u001B[38;5;28;01mexcept\u001B[39;00m googleapiclient\u001B[38;5;241m.\u001B[39merrors\u001B[38;5;241m.\u001B[39mHttpError \u001B[38;5;28;01mas\u001B[39;00m e:\n",
      "File \u001B[1;32m~\\PycharmProjects\\PT\\.venv\\Lib\\site-packages\\googleapiclient\\_helpers.py:130\u001B[0m, in \u001B[0;36mpositional.<locals>.positional_decorator.<locals>.positional_wrapper\u001B[1;34m(*args, **kwargs)\u001B[0m\n\u001B[0;32m    129\u001B[0m         logger\u001B[38;5;241m.\u001B[39mwarning(message)\n\u001B[1;32m--> 130\u001B[0m \u001B[38;5;28;01mreturn\u001B[39;00m \u001B[43mwrapped\u001B[49m\u001B[43m(\u001B[49m\u001B[38;5;241;43m*\u001B[39;49m\u001B[43margs\u001B[49m\u001B[43m,\u001B[49m\u001B[43m \u001B[49m\u001B[38;5;241;43m*\u001B[39;49m\u001B[38;5;241;43m*\u001B[39;49m\u001B[43mkwargs\u001B[49m\u001B[43m)\u001B[49m\n",
      "File \u001B[1;32m~\\PycharmProjects\\PT\\.venv\\Lib\\site-packages\\googleapiclient\\http.py:938\u001B[0m, in \u001B[0;36mHttpRequest.execute\u001B[1;34m(self, http, num_retries)\u001B[0m\n\u001B[0;32m    937\u001B[0m \u001B[38;5;28;01mif\u001B[39;00m resp\u001B[38;5;241m.\u001B[39mstatus \u001B[38;5;241m>\u001B[39m\u001B[38;5;241m=\u001B[39m \u001B[38;5;241m300\u001B[39m:\n\u001B[1;32m--> 938\u001B[0m     \u001B[38;5;28;01mraise\u001B[39;00m HttpError(resp, content, uri\u001B[38;5;241m=\u001B[39m\u001B[38;5;28mself\u001B[39m\u001B[38;5;241m.\u001B[39muri)\n\u001B[0;32m    939\u001B[0m \u001B[38;5;28;01mreturn\u001B[39;00m \u001B[38;5;28mself\u001B[39m\u001B[38;5;241m.\u001B[39mpostproc(resp, content)\n",
      "\u001B[1;31mHttpError\u001B[0m: <HttpError 403 when requesting https://earthengine.googleapis.com/v1/projects/earthengine-legacy/algorithms?prettyPrint=false&alt=json returned \"Not signed up for Earth Engine or project is not registered. Visit https://developers.google.com/earth-engine/guides/access\". Details: \"Not signed up for Earth Engine or project is not registered. Visit https://developers.google.com/earth-engine/guides/access\">",
      "\nDuring handling of the above exception, another exception occurred:\n",
      "\u001B[1;31mEEException\u001B[0m                               Traceback (most recent call last)",
      "Cell \u001B[1;32mIn[7], line 1\u001B[0m\n\u001B[1;32m----> 1\u001B[0m soil \u001B[38;5;241m=\u001B[39m \u001B[43mee\u001B[49m\u001B[38;5;241;43m.\u001B[39;49m\u001B[43mImage\u001B[49m\u001B[43m(\u001B[49m\u001B[38;5;124;43m\"\u001B[39;49m\u001B[38;5;124;43mOpenLandMap/SOL/SOL_TEXTURE-CLASS_USDA-TT_M/v02\u001B[39;49m\u001B[38;5;124;43m\"\u001B[39;49m\u001B[43m)\u001B[49m\n\u001B[0;32m      3\u001B[0m \u001B[38;5;66;03m# Получаем тип почвы в точке\u001B[39;00m\n\u001B[0;32m      4\u001B[0m soil_type \u001B[38;5;241m=\u001B[39m soil\u001B[38;5;241m.\u001B[39msample(region, scale\u001B[38;5;241m=\u001B[39m\u001B[38;5;241m250\u001B[39m)\u001B[38;5;241m.\u001B[39mfirst()\u001B[38;5;241m.\u001B[39mget(\u001B[38;5;124m'\u001B[39m\u001B[38;5;124mb0\u001B[39m\u001B[38;5;124m'\u001B[39m)\u001B[38;5;241m.\u001B[39mgetInfo()\n",
      "File \u001B[1;32m~\\PycharmProjects\\PT\\.venv\\Lib\\site-packages\\ee\\computedobject.py:28\u001B[0m, in \u001B[0;36mComputedObjectMetaclass.__call__\u001B[1;34m(cls, *args, **kwargs)\u001B[0m\n\u001B[0;32m     26\u001B[0m   \u001B[38;5;28;01mreturn\u001B[39;00m args[\u001B[38;5;241m0\u001B[39m]\n\u001B[0;32m     27\u001B[0m \u001B[38;5;28;01melse\u001B[39;00m:\n\u001B[1;32m---> 28\u001B[0m   \u001B[38;5;28;01mreturn\u001B[39;00m \u001B[38;5;28;43mtype\u001B[39;49m\u001B[38;5;241;43m.\u001B[39;49m\u001B[38;5;21;43m__call__\u001B[39;49m\u001B[43m(\u001B[49m\u001B[38;5;28;43mcls\u001B[39;49m\u001B[43m,\u001B[49m\u001B[43m \u001B[49m\u001B[38;5;241;43m*\u001B[39;49m\u001B[43margs\u001B[49m\u001B[43m,\u001B[49m\u001B[43m \u001B[49m\u001B[38;5;241;43m*\u001B[39;49m\u001B[38;5;241;43m*\u001B[39;49m\u001B[43mkwargs\u001B[49m\u001B[43m)\u001B[49m\n",
      "File \u001B[1;32m~\\PycharmProjects\\PT\\.venv\\Lib\\site-packages\\ee\\deprecation.py:124\u001B[0m, in \u001B[0;36mWarnForDeprecatedAsset.<locals>.Decorator.<locals>.Wrapper\u001B[1;34m(*args, **kwargs)\u001B[0m\n\u001B[0;32m    122\u001B[0m   \u001B[38;5;28;01mif\u001B[39;00m asset:\n\u001B[0;32m    123\u001B[0m     _IssueAssetDeprecationWarning(asset)\n\u001B[1;32m--> 124\u001B[0m \u001B[38;5;28;01mreturn\u001B[39;00m \u001B[43mfunc\u001B[49m\u001B[43m(\u001B[49m\u001B[38;5;241;43m*\u001B[39;49m\u001B[43margs\u001B[49m\u001B[43m,\u001B[49m\u001B[43m \u001B[49m\u001B[38;5;241;43m*\u001B[39;49m\u001B[38;5;241;43m*\u001B[39;49m\u001B[43mkwargs\u001B[49m\u001B[43m)\u001B[49m\n",
      "File \u001B[1;32m~\\PycharmProjects\\PT\\.venv\\Lib\\site-packages\\ee\\image.py:75\u001B[0m, in \u001B[0;36mImage.__init__\u001B[1;34m(self, args, version)\u001B[0m\n\u001B[0;32m     54\u001B[0m \u001B[38;5;129m@deprecation\u001B[39m\u001B[38;5;241m.\u001B[39mWarnForDeprecatedAsset(\u001B[38;5;124m'\u001B[39m\u001B[38;5;124margs\u001B[39m\u001B[38;5;124m'\u001B[39m)\n\u001B[0;32m     55\u001B[0m \u001B[38;5;28;01mdef\u001B[39;00m \u001B[38;5;21m__init__\u001B[39m(\n\u001B[0;32m     56\u001B[0m     \u001B[38;5;28mself\u001B[39m, args: Optional[Any] \u001B[38;5;241m=\u001B[39m \u001B[38;5;28;01mNone\u001B[39;00m, version: Optional[\u001B[38;5;28mfloat\u001B[39m] \u001B[38;5;241m=\u001B[39m \u001B[38;5;28;01mNone\u001B[39;00m\n\u001B[0;32m     57\u001B[0m ):\n\u001B[0;32m     58\u001B[0m \u001B[38;5;250m  \u001B[39m\u001B[38;5;124;03m\"\"\"Constructs an Earth Engine image.\u001B[39;00m\n\u001B[0;32m     59\u001B[0m \n\u001B[0;32m     60\u001B[0m \u001B[38;5;124;03m  Args:\u001B[39;00m\n\u001B[1;32m   (...)\u001B[0m\n\u001B[0;32m     73\u001B[0m \u001B[38;5;124;03m    EEException: if passed something other than the above.\u001B[39;00m\n\u001B[0;32m     74\u001B[0m \u001B[38;5;124;03m  \"\"\"\u001B[39;00m\n\u001B[1;32m---> 75\u001B[0m   \u001B[38;5;28;43mself\u001B[39;49m\u001B[38;5;241;43m.\u001B[39;49m\u001B[43minitialize\u001B[49m\u001B[43m(\u001B[49m\u001B[43m)\u001B[49m\n\u001B[0;32m     77\u001B[0m   \u001B[38;5;28;01mif\u001B[39;00m version \u001B[38;5;129;01mis\u001B[39;00m \u001B[38;5;129;01mnot\u001B[39;00m \u001B[38;5;28;01mNone\u001B[39;00m:\n\u001B[0;32m     78\u001B[0m     \u001B[38;5;28;01mif\u001B[39;00m ee_types\u001B[38;5;241m.\u001B[39misString(args) \u001B[38;5;129;01mand\u001B[39;00m ee_types\u001B[38;5;241m.\u001B[39misNumber(version):\n\u001B[0;32m     79\u001B[0m       \u001B[38;5;66;03m# An ID and version.\u001B[39;00m\n",
      "File \u001B[1;32m~\\PycharmProjects\\PT\\.venv\\Lib\\site-packages\\ee\\image.py:121\u001B[0m, in \u001B[0;36mImage.initialize\u001B[1;34m(cls)\u001B[0m\n\u001B[0;32m    119\u001B[0m \u001B[38;5;250m\u001B[39m\u001B[38;5;124;03m\"\"\"Imports API functions to this class.\"\"\"\u001B[39;00m\n\u001B[0;32m    120\u001B[0m \u001B[38;5;28;01mif\u001B[39;00m \u001B[38;5;129;01mnot\u001B[39;00m \u001B[38;5;28mcls\u001B[39m\u001B[38;5;241m.\u001B[39m_initialized:\n\u001B[1;32m--> 121\u001B[0m   \u001B[43mapifunction\u001B[49m\u001B[38;5;241;43m.\u001B[39;49m\u001B[43mApiFunction\u001B[49m\u001B[38;5;241;43m.\u001B[39;49m\u001B[43mimportApi\u001B[49m\u001B[43m(\u001B[49m\u001B[38;5;28;43mcls\u001B[39;49m\u001B[43m,\u001B[49m\u001B[43m \u001B[49m\u001B[38;5;28;43mcls\u001B[39;49m\u001B[38;5;241;43m.\u001B[39;49m\u001B[43mname\u001B[49m\u001B[43m(\u001B[49m\u001B[43m)\u001B[49m\u001B[43m,\u001B[49m\u001B[43m \u001B[49m\u001B[38;5;28;43mcls\u001B[39;49m\u001B[38;5;241;43m.\u001B[39;49m\u001B[43mname\u001B[49m\u001B[43m(\u001B[49m\u001B[43m)\u001B[49m\u001B[43m)\u001B[49m\n\u001B[0;32m    122\u001B[0m   \u001B[38;5;28mcls\u001B[39m\u001B[38;5;241m.\u001B[39m_initialized \u001B[38;5;241m=\u001B[39m \u001B[38;5;28;01mTrue\u001B[39;00m\n",
      "File \u001B[1;32m~\\PycharmProjects\\PT\\.venv\\Lib\\site-packages\\ee\\_utils.py:38\u001B[0m, in \u001B[0;36maccept_opt_prefix.<locals>.opt_fixed.<locals>.wrapper\u001B[1;34m(*args, **kwargs)\u001B[0m\n\u001B[0;32m     36\u001B[0m     \u001B[38;5;28;01mif\u001B[39;00m new_key \u001B[38;5;129;01mnot\u001B[39;00m \u001B[38;5;129;01min\u001B[39;00m kwargs:\n\u001B[0;32m     37\u001B[0m       kwargs[new_key] \u001B[38;5;241m=\u001B[39m old_key_val\n\u001B[1;32m---> 38\u001B[0m \u001B[38;5;28;01mreturn\u001B[39;00m \u001B[43mfunc\u001B[49m\u001B[43m(\u001B[49m\u001B[38;5;241;43m*\u001B[39;49m\u001B[43margs\u001B[49m\u001B[43m,\u001B[49m\u001B[43m \u001B[49m\u001B[38;5;241;43m*\u001B[39;49m\u001B[38;5;241;43m*\u001B[39;49m\u001B[43mkwargs\u001B[49m\u001B[43m)\u001B[49m\n",
      "File \u001B[1;32m~\\PycharmProjects\\PT\\.venv\\Lib\\site-packages\\ee\\apifunction.py:197\u001B[0m, in \u001B[0;36mApiFunction.importApi\u001B[1;34m(cls, target, prefix, type_name, prepend)\u001B[0m\n\u001B[0;32m    177\u001B[0m \u001B[38;5;129m@classmethod\u001B[39m\n\u001B[0;32m    178\u001B[0m \u001B[38;5;129m@_utils\u001B[39m\u001B[38;5;241m.\u001B[39maccept_opt_prefix(\u001B[38;5;124m'\u001B[39m\u001B[38;5;124mopt_prepend\u001B[39m\u001B[38;5;124m'\u001B[39m)\n\u001B[0;32m    179\u001B[0m \u001B[38;5;28;01mdef\u001B[39;00m \u001B[38;5;21mimportApi\u001B[39m(\n\u001B[1;32m   (...)\u001B[0m\n\u001B[0;32m    184\u001B[0m     prepend: Optional[\u001B[38;5;28mstr\u001B[39m] \u001B[38;5;241m=\u001B[39m \u001B[38;5;28;01mNone\u001B[39;00m,\n\u001B[0;32m    185\u001B[0m ) \u001B[38;5;241m-\u001B[39m\u001B[38;5;241m>\u001B[39m \u001B[38;5;28;01mNone\u001B[39;00m:\n\u001B[0;32m    186\u001B[0m \u001B[38;5;250m  \u001B[39m\u001B[38;5;124;03m\"\"\"Adds all API functions that begin with a given prefix to a target class.\u001B[39;00m\n\u001B[0;32m    187\u001B[0m \n\u001B[0;32m    188\u001B[0m \u001B[38;5;124;03m  Args:\u001B[39;00m\n\u001B[1;32m   (...)\u001B[0m\n\u001B[0;32m    195\u001B[0m \u001B[38;5;124;03m      functions.\u001B[39;00m\n\u001B[0;32m    196\u001B[0m \u001B[38;5;124;03m  \"\"\"\u001B[39;00m\n\u001B[1;32m--> 197\u001B[0m   \u001B[38;5;28;43mcls\u001B[39;49m\u001B[38;5;241;43m.\u001B[39;49m\u001B[43minitialize\u001B[49m\u001B[43m(\u001B[49m\u001B[43m)\u001B[49m\n\u001B[0;32m    198\u001B[0m   prepend \u001B[38;5;241m=\u001B[39m prepend \u001B[38;5;129;01mor\u001B[39;00m \u001B[38;5;124m'\u001B[39m\u001B[38;5;124m'\u001B[39m\n\u001B[0;32m    199\u001B[0m   \u001B[38;5;28;01mfor\u001B[39;00m name, api_func \u001B[38;5;129;01min\u001B[39;00m \u001B[38;5;28mcls\u001B[39m\u001B[38;5;241m.\u001B[39m_api\u001B[38;5;241m.\u001B[39mitems():\n",
      "File \u001B[1;32m~\\PycharmProjects\\PT\\.venv\\Lib\\site-packages\\ee\\apifunction.py:161\u001B[0m, in \u001B[0;36mApiFunction.initialize\u001B[1;34m(cls)\u001B[0m\n\u001B[0;32m    159\u001B[0m \u001B[38;5;250m\u001B[39m\u001B[38;5;124;03m\"\"\"Initializes the list of signatures from the Earth Engine front-end.\"\"\"\u001B[39;00m\n\u001B[0;32m    160\u001B[0m \u001B[38;5;28;01mif\u001B[39;00m \u001B[38;5;129;01mnot\u001B[39;00m \u001B[38;5;28mcls\u001B[39m\u001B[38;5;241m.\u001B[39m_api:\n\u001B[1;32m--> 161\u001B[0m   signatures \u001B[38;5;241m=\u001B[39m \u001B[43mdata\u001B[49m\u001B[38;5;241;43m.\u001B[39;49m\u001B[43mgetAlgorithms\u001B[49m\u001B[43m(\u001B[49m\u001B[43m)\u001B[49m\n\u001B[0;32m    162\u001B[0m   api \u001B[38;5;241m=\u001B[39m {}\n\u001B[0;32m    163\u001B[0m   \u001B[38;5;28;01mfor\u001B[39;00m name, sig \u001B[38;5;129;01min\u001B[39;00m signatures\u001B[38;5;241m.\u001B[39mitems():\n\u001B[0;32m    164\u001B[0m     \u001B[38;5;66;03m# Strip type parameters.\u001B[39;00m\n",
      "File \u001B[1;32m~\\PycharmProjects\\PT\\.venv\\Lib\\site-packages\\ee\\data.py:1497\u001B[0m, in \u001B[0;36mgetAlgorithms\u001B[1;34m()\u001B[0m\n\u001B[0;32m   1492\u001B[0m     \u001B[38;5;28mprint\u001B[39m(\n\u001B[0;32m   1493\u001B[0m         \u001B[38;5;124m'\u001B[39m\u001B[38;5;124m*** Earth Engine ***\u001B[39m\u001B[38;5;124m'\u001B[39m,\n\u001B[0;32m   1494\u001B[0m         response[_INIT_MESSAGE_HEADER],\n\u001B[0;32m   1495\u001B[0m         file\u001B[38;5;241m=\u001B[39msys\u001B[38;5;241m.\u001B[39mstderr)\n\u001B[0;32m   1496\u001B[0m call\u001B[38;5;241m.\u001B[39madd_response_callback(inspect)\n\u001B[1;32m-> 1497\u001B[0m \u001B[38;5;28;01mreturn\u001B[39;00m _cloud_api_utils\u001B[38;5;241m.\u001B[39mconvert_algorithms(\u001B[43m_execute_cloud_call\u001B[49m\u001B[43m(\u001B[49m\u001B[43mcall\u001B[49m\u001B[43m)\u001B[49m)\n",
      "File \u001B[1;32m~\\PycharmProjects\\PT\\.venv\\Lib\\site-packages\\ee\\data.py:408\u001B[0m, in \u001B[0;36m_execute_cloud_call\u001B[1;34m(call, num_retries)\u001B[0m\n\u001B[0;32m    406\u001B[0m   \u001B[38;5;28;01mreturn\u001B[39;00m call\u001B[38;5;241m.\u001B[39mexecute(num_retries\u001B[38;5;241m=\u001B[39mnum_retries)\n\u001B[0;32m    407\u001B[0m \u001B[38;5;28;01mexcept\u001B[39;00m googleapiclient\u001B[38;5;241m.\u001B[39merrors\u001B[38;5;241m.\u001B[39mHttpError \u001B[38;5;28;01mas\u001B[39;00m e:\n\u001B[1;32m--> 408\u001B[0m   \u001B[38;5;28;01mraise\u001B[39;00m _translate_cloud_exception(e)\n",
      "\u001B[1;31mEEException\u001B[0m: Not signed up for Earth Engine or project is not registered. Visit https://developers.google.com/earth-engine/guides/access"
     ]
    }
   ],
   "execution_count": 7
  },
  {
   "metadata": {
    "ExecuteTime": {
     "end_time": "2024-09-21T23:20:18.460214Z",
     "start_time": "2024-09-21T23:20:17.845664Z"
    }
   },
   "cell_type": "code",
   "source": [
    "wind = ee.ImageCollection('ECMWF/ERA5/DAILY') \\\n",
    "    .filterDate(start_date, end_date) \\\n",
    "    .select(['u_component_of_wind_10m', 'v_component_of_wind_10m'])\n",
    "\n",
    "wind_mean = wind.mean()\n",
    "\n",
    "def calculate_wind_speed(u, v):\n",
    "    return math.sqrt(u**2 + v**2)\n",
    "\n",
    "wind_data = wind_mean.sample(region, scale=1000).first().getInfo()['properties']\n",
    "u_wind = wind_data['u_component_of_wind_10m']\n",
    "v_wind = wind_data['v_component_of_wind_10m']\n",
    "wind_speed = calculate_wind_speed(u_wind, v_wind)\n",
    "\n",
    "print(f\"Скорость ветра: {wind_speed:.2f} м/с\")"
   ],
   "id": "e5f845f8cbe22eb4",
   "outputs": [
    {
     "ename": "EEException",
     "evalue": "Image.sample: Unable to find a crs.",
     "output_type": "error",
     "traceback": [
      "\u001B[1;31m---------------------------------------------------------------------------\u001B[0m",
      "\u001B[1;31mHttpError\u001B[0m                                 Traceback (most recent call last)",
      "File \u001B[1;32m~\\PycharmProjects\\PT\\.venv\\Lib\\site-packages\\ee\\data.py:406\u001B[0m, in \u001B[0;36m_execute_cloud_call\u001B[1;34m(call, num_retries)\u001B[0m\n\u001B[0;32m    405\u001B[0m \u001B[38;5;28;01mtry\u001B[39;00m:\n\u001B[1;32m--> 406\u001B[0m   \u001B[38;5;28;01mreturn\u001B[39;00m \u001B[43mcall\u001B[49m\u001B[38;5;241;43m.\u001B[39;49m\u001B[43mexecute\u001B[49m\u001B[43m(\u001B[49m\u001B[43mnum_retries\u001B[49m\u001B[38;5;241;43m=\u001B[39;49m\u001B[43mnum_retries\u001B[49m\u001B[43m)\u001B[49m\n\u001B[0;32m    407\u001B[0m \u001B[38;5;28;01mexcept\u001B[39;00m googleapiclient\u001B[38;5;241m.\u001B[39merrors\u001B[38;5;241m.\u001B[39mHttpError \u001B[38;5;28;01mas\u001B[39;00m e:\n",
      "File \u001B[1;32m~\\PycharmProjects\\PT\\.venv\\Lib\\site-packages\\googleapiclient\\_helpers.py:130\u001B[0m, in \u001B[0;36mpositional.<locals>.positional_decorator.<locals>.positional_wrapper\u001B[1;34m(*args, **kwargs)\u001B[0m\n\u001B[0;32m    129\u001B[0m         logger\u001B[38;5;241m.\u001B[39mwarning(message)\n\u001B[1;32m--> 130\u001B[0m \u001B[38;5;28;01mreturn\u001B[39;00m \u001B[43mwrapped\u001B[49m\u001B[43m(\u001B[49m\u001B[38;5;241;43m*\u001B[39;49m\u001B[43margs\u001B[49m\u001B[43m,\u001B[49m\u001B[43m \u001B[49m\u001B[38;5;241;43m*\u001B[39;49m\u001B[38;5;241;43m*\u001B[39;49m\u001B[43mkwargs\u001B[49m\u001B[43m)\u001B[49m\n",
      "File \u001B[1;32m~\\PycharmProjects\\PT\\.venv\\Lib\\site-packages\\googleapiclient\\http.py:938\u001B[0m, in \u001B[0;36mHttpRequest.execute\u001B[1;34m(self, http, num_retries)\u001B[0m\n\u001B[0;32m    937\u001B[0m \u001B[38;5;28;01mif\u001B[39;00m resp\u001B[38;5;241m.\u001B[39mstatus \u001B[38;5;241m>\u001B[39m\u001B[38;5;241m=\u001B[39m \u001B[38;5;241m300\u001B[39m:\n\u001B[1;32m--> 938\u001B[0m     \u001B[38;5;28;01mraise\u001B[39;00m HttpError(resp, content, uri\u001B[38;5;241m=\u001B[39m\u001B[38;5;28mself\u001B[39m\u001B[38;5;241m.\u001B[39muri)\n\u001B[0;32m    939\u001B[0m \u001B[38;5;28;01mreturn\u001B[39;00m \u001B[38;5;28mself\u001B[39m\u001B[38;5;241m.\u001B[39mpostproc(resp, content)\n",
      "\u001B[1;31mHttpError\u001B[0m: <HttpError 400 when requesting https://earthengine.googleapis.com/v1/projects/ee-dilavar7517/value:compute?prettyPrint=false&alt=json returned \"Image.sample: Unable to find a crs.\". Details: \"Image.sample: Unable to find a crs.\">",
      "\nDuring handling of the above exception, another exception occurred:\n",
      "\u001B[1;31mEEException\u001B[0m                               Traceback (most recent call last)",
      "Cell \u001B[1;32mIn[16], line 10\u001B[0m\n\u001B[0;32m      7\u001B[0m \u001B[38;5;28;01mdef\u001B[39;00m \u001B[38;5;21mcalculate_wind_speed\u001B[39m(u, v):\n\u001B[0;32m      8\u001B[0m     \u001B[38;5;28;01mreturn\u001B[39;00m math\u001B[38;5;241m.\u001B[39msqrt(u\u001B[38;5;241m*\u001B[39m\u001B[38;5;241m*\u001B[39m\u001B[38;5;241m2\u001B[39m \u001B[38;5;241m+\u001B[39m v\u001B[38;5;241m*\u001B[39m\u001B[38;5;241m*\u001B[39m\u001B[38;5;241m2\u001B[39m)\n\u001B[1;32m---> 10\u001B[0m wind_data \u001B[38;5;241m=\u001B[39m \u001B[43mwind_mean\u001B[49m\u001B[38;5;241;43m.\u001B[39;49m\u001B[43msample\u001B[49m\u001B[43m(\u001B[49m\u001B[43mregion\u001B[49m\u001B[43m,\u001B[49m\u001B[43m \u001B[49m\u001B[43mscale\u001B[49m\u001B[38;5;241;43m=\u001B[39;49m\u001B[38;5;241;43m1000\u001B[39;49m\u001B[43m)\u001B[49m\u001B[38;5;241;43m.\u001B[39;49m\u001B[43mfirst\u001B[49m\u001B[43m(\u001B[49m\u001B[43m)\u001B[49m\u001B[38;5;241;43m.\u001B[39;49m\u001B[43mgetInfo\u001B[49m\u001B[43m(\u001B[49m\u001B[43m)\u001B[49m[\u001B[38;5;124m'\u001B[39m\u001B[38;5;124mproperties\u001B[39m\u001B[38;5;124m'\u001B[39m]\n\u001B[0;32m     11\u001B[0m u_wind \u001B[38;5;241m=\u001B[39m wind_data[\u001B[38;5;124m'\u001B[39m\u001B[38;5;124mu_component_of_wind_10m\u001B[39m\u001B[38;5;124m'\u001B[39m]\n\u001B[0;32m     12\u001B[0m v_wind \u001B[38;5;241m=\u001B[39m wind_data[\u001B[38;5;124m'\u001B[39m\u001B[38;5;124mv_component_of_wind_10m\u001B[39m\u001B[38;5;124m'\u001B[39m]\n",
      "File \u001B[1;32m~\\PycharmProjects\\PT\\.venv\\Lib\\site-packages\\ee\\computedobject.py:107\u001B[0m, in \u001B[0;36mComputedObject.getInfo\u001B[1;34m(self)\u001B[0m\n\u001B[0;32m    101\u001B[0m \u001B[38;5;28;01mdef\u001B[39;00m \u001B[38;5;21mgetInfo\u001B[39m(\u001B[38;5;28mself\u001B[39m) \u001B[38;5;241m-\u001B[39m\u001B[38;5;241m>\u001B[39m Optional[Any]:\n\u001B[0;32m    102\u001B[0m \u001B[38;5;250m  \u001B[39m\u001B[38;5;124;03m\"\"\"Fetch and return information about this object.\u001B[39;00m\n\u001B[0;32m    103\u001B[0m \n\u001B[0;32m    104\u001B[0m \u001B[38;5;124;03m  Returns:\u001B[39;00m\n\u001B[0;32m    105\u001B[0m \u001B[38;5;124;03m    The object can evaluate to anything.\u001B[39;00m\n\u001B[0;32m    106\u001B[0m \u001B[38;5;124;03m  \"\"\"\u001B[39;00m\n\u001B[1;32m--> 107\u001B[0m   \u001B[38;5;28;01mreturn\u001B[39;00m \u001B[43mdata\u001B[49m\u001B[38;5;241;43m.\u001B[39;49m\u001B[43mcomputeValue\u001B[49m\u001B[43m(\u001B[49m\u001B[38;5;28;43mself\u001B[39;49m\u001B[43m)\u001B[49m\n",
      "File \u001B[1;32m~\\PycharmProjects\\PT\\.venv\\Lib\\site-packages\\ee\\data.py:1126\u001B[0m, in \u001B[0;36mcomputeValue\u001B[1;34m(obj)\u001B[0m\n\u001B[0;32m   1123\u001B[0m body \u001B[38;5;241m=\u001B[39m {\u001B[38;5;124m'\u001B[39m\u001B[38;5;124mexpression\u001B[39m\u001B[38;5;124m'\u001B[39m: serializer\u001B[38;5;241m.\u001B[39mencode(obj, for_cloud_api\u001B[38;5;241m=\u001B[39m\u001B[38;5;28;01mTrue\u001B[39;00m)}\n\u001B[0;32m   1124\u001B[0m _maybe_populate_workload_tag(body)\n\u001B[1;32m-> 1126\u001B[0m \u001B[38;5;28;01mreturn\u001B[39;00m \u001B[43m_execute_cloud_call\u001B[49m\u001B[43m(\u001B[49m\n\u001B[0;32m   1127\u001B[0m \u001B[43m    \u001B[49m\u001B[43m_get_cloud_projects\u001B[49m\u001B[43m(\u001B[49m\u001B[43m)\u001B[49m\n\u001B[0;32m   1128\u001B[0m \u001B[43m    \u001B[49m\u001B[38;5;241;43m.\u001B[39;49m\u001B[43mvalue\u001B[49m\u001B[43m(\u001B[49m\u001B[43m)\u001B[49m\n\u001B[0;32m   1129\u001B[0m \u001B[43m    \u001B[49m\u001B[38;5;241;43m.\u001B[39;49m\u001B[43mcompute\u001B[49m\u001B[43m(\u001B[49m\u001B[43mbody\u001B[49m\u001B[38;5;241;43m=\u001B[39;49m\u001B[43mbody\u001B[49m\u001B[43m,\u001B[49m\u001B[43m \u001B[49m\u001B[43mproject\u001B[49m\u001B[38;5;241;43m=\u001B[39;49m\u001B[43m_get_projects_path\u001B[49m\u001B[43m(\u001B[49m\u001B[43m)\u001B[49m\u001B[43m,\u001B[49m\u001B[43m \u001B[49m\u001B[43mprettyPrint\u001B[49m\u001B[38;5;241;43m=\u001B[39;49m\u001B[38;5;28;43;01mFalse\u001B[39;49;00m\u001B[43m)\u001B[49m\n\u001B[0;32m   1130\u001B[0m \u001B[43m\u001B[49m\u001B[43m)\u001B[49m[\u001B[38;5;124m'\u001B[39m\u001B[38;5;124mresult\u001B[39m\u001B[38;5;124m'\u001B[39m]\n",
      "File \u001B[1;32m~\\PycharmProjects\\PT\\.venv\\Lib\\site-packages\\ee\\data.py:408\u001B[0m, in \u001B[0;36m_execute_cloud_call\u001B[1;34m(call, num_retries)\u001B[0m\n\u001B[0;32m    406\u001B[0m   \u001B[38;5;28;01mreturn\u001B[39;00m call\u001B[38;5;241m.\u001B[39mexecute(num_retries\u001B[38;5;241m=\u001B[39mnum_retries)\n\u001B[0;32m    407\u001B[0m \u001B[38;5;28;01mexcept\u001B[39;00m googleapiclient\u001B[38;5;241m.\u001B[39merrors\u001B[38;5;241m.\u001B[39mHttpError \u001B[38;5;28;01mas\u001B[39;00m e:\n\u001B[1;32m--> 408\u001B[0m   \u001B[38;5;28;01mraise\u001B[39;00m _translate_cloud_exception(e)\n",
      "\u001B[1;31mEEException\u001B[0m: Image.sample: Unable to find a crs."
     ]
    }
   ],
   "execution_count": 16
  },
  {
   "metadata": {
    "ExecuteTime": {
     "end_time": "2024-09-21T23:20:19.288586Z",
     "start_time": "2024-09-21T23:20:19.279847Z"
    }
   },
   "cell_type": "code",
   "source": [
    "precipitation = data['total_precipitation'] \n",
    "rain = precipitation > 0\n",
    "\n",
    "print(f\"Наличие дождя: {'Да' if rain else 'Нет'}\")"
   ],
   "id": "fd26b3d9309e6e3e",
   "outputs": [
    {
     "ename": "TypeError",
     "evalue": "'Image' object is not subscriptable",
     "output_type": "error",
     "traceback": [
      "\u001B[1;31m---------------------------------------------------------------------------\u001B[0m",
      "\u001B[1;31mTypeError\u001B[0m                                 Traceback (most recent call last)",
      "Cell \u001B[1;32mIn[17], line 2\u001B[0m\n\u001B[0;32m      1\u001B[0m \u001B[38;5;66;03m# Получаем средние осадки за период\u001B[39;00m\n\u001B[1;32m----> 2\u001B[0m precipitation \u001B[38;5;241m=\u001B[39m \u001B[43mdata\u001B[49m\u001B[43m[\u001B[49m\u001B[38;5;124;43m'\u001B[39;49m\u001B[38;5;124;43mtotal_precipitation\u001B[39;49m\u001B[38;5;124;43m'\u001B[39;49m\u001B[43m]\u001B[49m  \u001B[38;5;66;03m# В метрах водного эквивалента\u001B[39;00m\n\u001B[0;32m      4\u001B[0m \u001B[38;5;66;03m# Проверяем, был ли дождь\u001B[39;00m\n\u001B[0;32m      5\u001B[0m rain \u001B[38;5;241m=\u001B[39m precipitation \u001B[38;5;241m>\u001B[39m \u001B[38;5;241m0\u001B[39m\n",
      "\u001B[1;31mTypeError\u001B[0m: 'Image' object is not subscriptable"
     ]
    }
   ],
   "execution_count": 17
  },
  {
   "metadata": {},
   "cell_type": "code",
   "outputs": [],
   "execution_count": null,
   "source": [
    "s5p = ee.ImageCollection('COPERNICUS/S5P/NRTI/L3_NO2') \\\n",
    "    .filterDate(start_date, end_date)\n",
    "\n",
    "s5p_mean = s5p.mean()\n",
    "no2 = s5p_mean.sample(region, scale=1000).first().get('NO2_column_number_density').getInfo()\n",
    "\n",
    "print(f\"Концентрация NO₂: {no2:.2e} mol/m²\")"
   ],
   "id": "6105c00e6a34dcc4"
  }
 ],
 "metadata": {
  "kernelspec": {
   "display_name": "Python 3",
   "language": "python",
   "name": "python3"
  },
  "language_info": {
   "codemirror_mode": {
    "name": "ipython",
    "version": 2
   },
   "file_extension": ".py",
   "mimetype": "text/x-python",
   "name": "python",
   "nbconvert_exporter": "python",
   "pygments_lexer": "ipython2",
   "version": "2.7.6"
  }
 },
 "nbformat": 4,
 "nbformat_minor": 5
}
