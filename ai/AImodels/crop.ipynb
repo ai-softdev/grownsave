{
 "cells": [
  {
   "metadata": {
    "ExecuteTime": {
     "end_time": "2024-09-21T22:30:18.946415Z",
     "start_time": "2024-09-21T22:30:18.939262Z"
    }
   },
   "cell_type": "code",
   "source": [
    "import pandas as pd\n",
    "import numpy as np\n",
    "from tensorflow.keras import Sequential\n",
    "from tensorflow.keras.layers import Dense, Dropout, BatchNormalization\n",
    "from sklearn.preprocessing import LabelEncoder, StandardScaler\n",
    "from sklearn.model_selection import train_test_split\n",
    "from keras.src.utils import to_categorical\n",
    "import matplotlib.pyplot as plt\n",
    "from tensorflow.keras.optimizers import Adam\n",
    "import warnings\n",
    "warnings.filterwarnings('ignore')\n"
   ],
   "id": "62f7e4ec162da928",
   "execution_count": 11,
   "outputs": []
  },
  {
   "metadata": {
    "ExecuteTime": {
     "end_time": "2024-09-21T22:25:59.435928Z",
     "start_time": "2024-09-21T22:25:59.421659Z"
    }
   },
   "cell_type": "code",
   "source": [
    "data = pd.read_csv(\"datasets/crop_data.csv\")\n",
    "\n",
    "X = data[[\"N\", \"P\", \"K\", \"temperature\", \"humidity\", \"ph\"]]\n",
    "y = data[\"label\"]\n",
    "\n",
    "label_encoder = LabelEncoder()\n",
    "y_encoded = label_encoder.fit_transform(y)\n",
    "\n",
    "y_categorical = to_categorical(y_encoded)\n",
    "\n",
    "scaler = StandardScaler()\n",
    "X_scaled = scaler.fit_transform(X)"
   ],
   "id": "2c836e0b10acd371",
   "execution_count": 5,
   "outputs": []
  },
  {
   "metadata": {
    "ExecuteTime": {
     "end_time": "2024-09-21T22:30:24.270660Z",
     "start_time": "2024-09-21T22:30:24.214795Z"
    }
   },
   "cell_type": "code",
   "source": [
    "X_train, X_test, y_train, y_test = train_test_split(\n",
    "    X_scaled, y_categorical, test_size=0.2, random_state=42\n",
    ")\n",
    "\n",
    "\n",
    "model = Sequential()\n",
    "\n",
    "model.add(Dense(256, input_dim=6, activation=\"relu\"))\n",
    "model.add(BatchNormalization())\n",
    "model.add(Dropout(0.5))\n",
    "\n",
    "model.add(Dense(128, activation=\"relu\"))\n",
    "model.add(BatchNormalization())\n",
    "model.add(Dropout(0.4))\n",
    "\n",
    "model.add(Dense(64, activation=\"relu\"))\n",
    "model.add(BatchNormalization())\n",
    "model.add(Dropout(0.3))\n",
    "\n",
    "model.add(Dense(32, activation=\"relu\"))\n",
    "model.add(BatchNormalization())\n",
    "model.add(Dropout(0.2))\n",
    "\n",
    "model.add(Dense(y_categorical.shape[1], activation=\"softmax\"))\n"
   ],
   "id": "389d2b156b37313c",
   "execution_count": 12,
   "outputs": []
  },
  {
   "metadata": {
    "ExecuteTime": {
     "end_time": "2024-09-21T22:30:33.117441Z",
     "start_time": "2024-09-21T22:30:25.162211Z"
    }
   },
   "cell_type": "code",
   "source": [
    "from keras.src.callbacks import EarlyStopping\n",
    "\n",
    "optimizer = Adam(learning_rate=0.001)\n",
    "model.compile(\n",
    "    loss=\"categorical_crossentropy\", optimizer=optimizer, metrics=[\"accuracy\"]\n",
    ")\n",
    "\n",
    "model.summary()\n",
    "early_stopping = EarlyStopping(\n",
    "    monitor=\"val_loss\", patience=10, restore_best_weights=True\n",
    ")\n",
    "\n",
    "history = model.fit(\n",
    "    X_train,\n",
    "    y_train,\n",
    "    validation_data=(X_test, y_test),\n",
    "    epochs=100,\n",
    "    batch_size=32,\n",
    "    callbacks=[early_stopping],\n",
    ")\n"
   ],
   "id": "c6abdf1b5cc2a2ff",
   "execution_count": 13,
   "outputs": []
  },
  {
   "metadata": {
    "ExecuteTime": {
     "end_time": "2024-09-21T22:30:33.282718Z",
     "start_time": "2024-09-21T22:30:33.118533Z"
    }
   },
   "cell_type": "code",
   "source": [
    "test_loss, test_accuracy = model.evaluate(X_test, y_test)\n",
    "print(f\"Точность на тестовых данных: {test_accuracy * 100:.2f}%\")\n",
    "\n",
    "plt.plot(history.history[\"accuracy\"], label=\"Точность на обучающем наборе\")\n",
    "plt.plot(history.history[\"val_accuracy\"], label=\"Точность на валидационном наборе\")\n",
    "plt.xlabel(\"Эпоха\")\n",
    "plt.ylabel(\"Точность\")\n",
    "plt.legend()\n",
    "plt.show()\n",
    "\n",
    "plt.plot(history.history[\"loss\"], label=\"Потери на обучающем наборе\")\n",
    "plt.plot(history.history[\"val_loss\"], label=\"Потери на валидационном наборе\")\n",
    "plt.xlabel(\"Эпоха\")\n",
    "plt.ylabel(\"Потери\")\n",
    "plt.legend()\n",
    "plt.show()\n"
   ],
   "id": "2949202b4b68f4e8",
   "execution_count": 14,
   "outputs": []
  },
  {
   "metadata": {
    "ExecuteTime": {
     "end_time": "2024-09-21T22:30:55.304576Z",
     "start_time": "2024-09-21T22:30:55.285907Z"
    }
   },
   "cell_type": "code",
   "source": "model.save(\"crop.h5\")\n",
   "id": "897657063aadde67",
   "execution_count": 16,
   "outputs": []
  },
  {
   "metadata": {
    "ExecuteTime": {
     "end_time": "2024-09-21T23:38:34.625297Z",
     "start_time": "2024-09-21T23:38:34.584982Z"
    }
   },
   "cell_type": "code",
   "source": [
    "new_sample = np.array([[100, 40, 50, 25, 80, 6.0]]) \n",
    "print(new_sample)\n",
    "\n",
    "new_sample_scaled = scaler.transform(new_sample)\n",
    "print(new_sample_scaled)\n",
    "prediction = model.predict(new_sample_scaled)\n",
    "predicted_class = label_encoder.inverse_transform([np.argmax(prediction)])\n",
    "\n",
    "print(f\"Рекомендуемая культура для посева: {predicted_class[0]}\")\n"
   ],
   "id": "144a5375c3970a7a",
   "execution_count": 19,
   "outputs": []
  },
  {
   "metadata": {},
   "cell_type": "code",
   "execution_count": null,
   "source": "",
   "id": "14b420a2ac70d67a",
   "outputs": []
  }
 ],
 "metadata": {
  "kernelspec": {
   "display_name": "Python 3",
   "language": "python",
   "name": "python3"
  },
  "language_info": {
   "codemirror_mode": {
    "name": "ipython",
    "version": 2
   },
   "file_extension": ".py",
   "mimetype": "text/x-python",
   "name": "python",
   "nbconvert_exporter": "python",
   "pygments_lexer": "ipython2",
   "version": "2.7.6"
  }
 },
 "nbformat": 4,
 "nbformat_minor": 5
}
